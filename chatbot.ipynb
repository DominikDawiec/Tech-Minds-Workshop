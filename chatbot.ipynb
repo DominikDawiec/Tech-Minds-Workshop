{
 "cells": [
  {
   "cell_type": "code",
   "execution_count": null,
   "metadata": {},
   "outputs": [],
   "source": [
    "# Importowanie potrzebnych bibliotek\n",
    "import openai  \n",
    "import time  \n",
    "import os  \n",
    "from PyPDF2 import PdfReader \n",
    "from pinecone import Pinecone, ServerlessSpec  \n",
    "\n",
    "from dotenv import load_dotenv\n",
    "load_dotenv()  "
   ]
  },
  {
   "cell_type": "code",
   "execution_count": null,
   "metadata": {},
   "outputs": [],
   "source": [
    "# Konfiguracja kluczy API  \n",
    "pinecone_api_key = ''\n",
    "openai.api_key = ''  "
   ]
  },
  {
   "cell_type": "code",
   "execution_count": null,
   "metadata": {},
   "outputs": [],
   "source": [
    "# Inicjalizacja bazy wektorowej Pinecone  \n",
    "pc = Pinecone(api_key=pinecone_api_key)  \n",
    "index_name = 'chatbot'  "
   ]
  },
  {
   "cell_type": "code",
   "execution_count": null,
   "metadata": {},
   "outputs": [],
   "source": [
    "# Sprawdzenie, czy indeks w bazie wektorowej istnieje, jeśli nie - utworzenie go  \n",
    "if index_name not in pc.list_indexes().names():  \n",
    "    pc.create_index(  \n",
    "        name=index_name,  \n",
    "        dimension=1536,  \n",
    "        metric='cosine',  \n",
    "        spec=ServerlessSpec(  \n",
    "            cloud='aws',  \n",
    "            region='us-east-1'  \n",
    "        )  \n",
    "    )  \n",
    "    # Czekanie, aż indeks zostanie zainicjalizowany  \n",
    "    while not pc.describe_index(index_name).status['ready']:  \n",
    "        time.sleep(1)  "
   ]
  },
  {
   "cell_type": "code",
   "execution_count": null,
   "metadata": {},
   "outputs": [],
   "source": [
    "# Połączenie z indeksem  \n",
    "index = pc.Index(index_name)  "
   ]
  },
  {
   "cell_type": "code",
   "execution_count": null,
   "metadata": {},
   "outputs": [],
   "source": [
    "# Funkcja do czytania tekstu z pliku PDF \n",
    "def read_pdf(file_path):  \n",
    "    with open(file_path, 'rb') as file:  \n",
    "        reader = PdfReader(file)  \n",
    "        text = ''  \n",
    "        for page_num in range(len(reader.pages)):  \n",
    "            page = reader.pages[page_num]  \n",
    "            text += page.extract_text()  \n",
    "    return text  \n",
    "\n",
    "# Funkcja do chunkowania tekstu  \n",
    "def chunk_text(text, chunk_size=500, overlap=50):  \n",
    "    chunks = []  \n",
    "    start = 0  \n",
    "    while start < len(text):  \n",
    "        end = start + chunk_size  \n",
    "        chunk = text[start:end]  \n",
    "        chunks.append(chunk)  \n",
    "        start += chunk_size - overlap  \n",
    "    return chunks \n",
    "\n",
    "# Funkcja do przetwarzania pliku PDF, chunkowania go i wrzucania do bazy Pinecone  \n",
    "def process_pdf_and_upsert(file_path, index):  \n",
    "    text = read_pdf(file_path)  \n",
    "    chunks = chunk_text(text)  \n",
    "    upsert_embeddings(chunks, index)  \n",
    "\n",
    "# Funkcja do embedowania tekstów  \n",
    "def get_embedding(text, model=\"text-embedding-3-small\"):  \n",
    "    text = text.replace(\"\\n\", \" \")  \n",
    "    response = openai.Embedding.create(input=[text], model=model)  \n",
    "    return response['data'][0]['embedding']  \n",
    "  \n",
    "# Funkcja do wrzucania embeddingów do bazy Pinecone  \n",
    "def upsert_embeddings(texts, index):  \n",
    "    embeddings = [get_embedding(text) for text in texts]  \n",
    "    ids = [str(i) for i in range(len(texts))]  \n",
    "    meta = [{'text': text} for text in texts]  \n",
    "    to_upsert = list(zip(ids, embeddings, meta))  \n",
    "    index.upsert(vectors=to_upsert)  \n",
    "  \n",
    "# Funkcja do wykonywania zapytań do bazy Pinecone i zwracania najlepszego chunku informacji  \n",
    "def query_embedding(query, index, model=\"text-embedding-3-small\"):  \n",
    "    query_embedding = get_embedding(query, model=model)  \n",
    "    result = index.query(vector=query_embedding, top_k=1, include_metadata=True)  \n",
    "    return result['matches'][0]['metadata']['text']   \n",
    "\n",
    "# Funkcja do generowania odpowiedzi na pytanie na podstawie najlepszego chunku  \n",
    "def generate_answer(query, index):  \n",
    "    best_match_text = query_embedding(query, index)  \n",
    "    prompt = f\"Based on the following information, answer the question: '{query}'\\n\\nInformation: {best_match_text}\"  \n",
    "      \n",
    "    response = openai.ChatCompletion.create(  \n",
    "        model=\"gpt-4o\",  \n",
    "        messages=[  \n",
    "            {\"role\": \"system\", \"content\": \"Jesteś pomocnym asystentem.\"},  \n",
    "            {\"role\": \"user\", \"content\": prompt}]\n",
    "        )  \n",
    "      \n",
    "    return response.choices[0].message.content"
   ]
  },
  {
   "cell_type": "code",
   "execution_count": null,
   "metadata": {},
   "outputs": [],
   "source": [
    "# Ścieżka do pliku PDF  \n",
    "pdf_file = os.path.join('Przewodnik_po_historii_Polski.pdf')  \n",
    "\n",
    "# Przetwarzanie pliku PDF, chunkowanie i wrzucanie do bazy Pinecone  \n",
    "process_pdf_and_upsert(pdf_file, index) "
   ]
  },
  {
   "cell_type": "code",
   "execution_count": null,
   "metadata": {},
   "outputs": [],
   "source": [
    "# Zadanie pytania i generowanie odpowiedzi  \n",
    "query = \"W którym roku opierając się na jałtańskich decyzjach Wielkiej Trójki, pod kontrolą Moskwy utworzono rząd, który miał zorganizować w okrojonym kraju wybory parlamentarne?\"  \n",
    "answer = generate_answer(query, index)  \n",
    "print(f\"Answer: {answer}\")  "
   ]
  },
  {
   "cell_type": "code",
   "execution_count": null,
   "metadata": {},
   "outputs": [],
   "source": []
  }
 ],
 "metadata": {
  "kernelspec": {
   "display_name": "Python 3 (ipykernel)",
   "language": "python",
   "name": "python3"
  },
  "language_info": {
   "codemirror_mode": {
    "name": "ipython",
    "version": 3
   },
   "file_extension": ".py",
   "mimetype": "text/x-python",
   "name": "python",
   "nbconvert_exporter": "python",
   "pygments_lexer": "ipython3",
   "version": "3.12.4"
  }
 },
 "nbformat": 4,
 "nbformat_minor": 4
}
