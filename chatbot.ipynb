{
 "cells": [
  {
   "cell_type": "code",
   "execution_count": 2,
   "metadata": {},
   "outputs": [
    {
     "data": {
      "text/plain": [
       "False"
      ]
     },
     "execution_count": 2,
     "metadata": {},
     "output_type": "execute_result"
    }
   ],
   "source": [
    "# Importowanie potrzebnych bibliotek\n",
    "import openai  \n",
    "import time  \n",
    "import os  \n",
    "from PyPDF2 import PdfReader \n",
    "from pinecone import Pinecone, ServerlessSpec  \n",
    "\n",
    "from dotenv import load_dotenv\n",
    "load_dotenv()  "
   ]
  },
  {
   "cell_type": "code",
   "execution_count": 3,
   "metadata": {},
   "outputs": [],
   "source": [
    "# Konfiguracja kluczy API  \n",
    "pinecone_api_key = ''\n",
    "openai.api_key = ''  "
   ]
  },
  {
   "cell_type": "code",
   "execution_count": 4,
   "metadata": {},
   "outputs": [
    {
     "ename": "PineconeConfigurationError",
     "evalue": "You haven't specified an Api-Key.",
     "output_type": "error",
     "traceback": [
      "\u001b[1;31m---------------------------------------------------------------------------\u001b[0m",
      "\u001b[1;31mPineconeConfigurationError\u001b[0m                Traceback (most recent call last)",
      "Cell \u001b[1;32mIn[4], line 2\u001b[0m\n\u001b[0;32m      1\u001b[0m \u001b[38;5;66;03m# Inicjalizacja bazy wektorowej Pinecone  \u001b[39;00m\n\u001b[1;32m----> 2\u001b[0m pc \u001b[38;5;241m=\u001b[39m Pinecone(api_key\u001b[38;5;241m=\u001b[39mpinecone_api_key)  \n\u001b[0;32m      3\u001b[0m index_name \u001b[38;5;241m=\u001b[39m \u001b[38;5;124m'\u001b[39m\u001b[38;5;124mchatbot\u001b[39m\u001b[38;5;124m'\u001b[39m\n",
      "File \u001b[1;32m~\\anaconda3\\Lib\\site-packages\\pinecone\\control\\pinecone.py:205\u001b[0m, in \u001b[0;36mPinecone.__init__\u001b[1;34m(self, api_key, host, proxy_url, proxy_headers, ssl_ca_certs, ssl_verify, config, additional_headers, pool_threads, index_api, **kwargs)\u001b[0m\n\u001b[0;32m    203\u001b[0m         \u001b[38;5;28mself\u001b[39m\u001b[38;5;241m.\u001b[39mconfig \u001b[38;5;241m=\u001b[39m config\n\u001b[0;32m    204\u001b[0m \u001b[38;5;28;01melse\u001b[39;00m:\n\u001b[1;32m--> 205\u001b[0m     \u001b[38;5;28mself\u001b[39m\u001b[38;5;241m.\u001b[39mconfig \u001b[38;5;241m=\u001b[39m PineconeConfig\u001b[38;5;241m.\u001b[39mbuild(\n\u001b[0;32m    206\u001b[0m         api_key\u001b[38;5;241m=\u001b[39mapi_key,\n\u001b[0;32m    207\u001b[0m         host\u001b[38;5;241m=\u001b[39mhost,\n\u001b[0;32m    208\u001b[0m         additional_headers\u001b[38;5;241m=\u001b[39madditional_headers,\n\u001b[0;32m    209\u001b[0m         proxy_url\u001b[38;5;241m=\u001b[39mproxy_url,\n\u001b[0;32m    210\u001b[0m         proxy_headers\u001b[38;5;241m=\u001b[39mproxy_headers,\n\u001b[0;32m    211\u001b[0m         ssl_ca_certs\u001b[38;5;241m=\u001b[39mssl_ca_certs,\n\u001b[0;32m    212\u001b[0m         ssl_verify\u001b[38;5;241m=\u001b[39mssl_verify,\n\u001b[0;32m    213\u001b[0m         \u001b[38;5;241m*\u001b[39m\u001b[38;5;241m*\u001b[39mkwargs,\n\u001b[0;32m    214\u001b[0m     )\n\u001b[0;32m    216\u001b[0m \u001b[38;5;28;01mif\u001b[39;00m kwargs\u001b[38;5;241m.\u001b[39mget(\u001b[38;5;124m\"\u001b[39m\u001b[38;5;124mopenapi_config\u001b[39m\u001b[38;5;124m\"\u001b[39m, \u001b[38;5;28;01mNone\u001b[39;00m):\n\u001b[0;32m    217\u001b[0m     \u001b[38;5;28;01mraise\u001b[39;00m \u001b[38;5;167;01mException\u001b[39;00m(\n\u001b[0;32m    218\u001b[0m         \u001b[38;5;124m\"\u001b[39m\u001b[38;5;124mPassing openapi_config is no longer supported. Please pass settings such as proxy_url, proxy_headers, ssl_ca_certs, and ssl_verify directly to the Pinecone constructor as keyword arguments. See the README at https://github.com/pinecone-io/pinecone-python-client for examples.\u001b[39m\u001b[38;5;124m\"\u001b[39m,\n\u001b[0;32m    219\u001b[0m     )\n",
      "File \u001b[1;32m~\\anaconda3\\Lib\\site-packages\\pinecone\\config\\pinecone_config.py:29\u001b[0m, in \u001b[0;36mPineconeConfig.build\u001b[1;34m(api_key, host, additional_headers, **kwargs)\u001b[0m\n\u001b[0;32m     26\u001b[0m     \u001b[38;5;28;01mexcept\u001b[39;00m \u001b[38;5;167;01mException\u001b[39;00m \u001b[38;5;28;01mas\u001b[39;00m e:\n\u001b[0;32m     27\u001b[0m         logger\u001b[38;5;241m.\u001b[39mwarn(\u001b[38;5;124mf\u001b[39m\u001b[38;5;124m\"\u001b[39m\u001b[38;5;124mIgnoring PINECONE_ADDITIONAL_HEADERS: \u001b[39m\u001b[38;5;132;01m{\u001b[39;00me\u001b[38;5;132;01m}\u001b[39;00m\u001b[38;5;124m\"\u001b[39m)\n\u001b[1;32m---> 29\u001b[0m \u001b[38;5;28;01mreturn\u001b[39;00m ConfigBuilder\u001b[38;5;241m.\u001b[39mbuild(\n\u001b[0;32m     30\u001b[0m     api_key\u001b[38;5;241m=\u001b[39mapi_key,\n\u001b[0;32m     31\u001b[0m     host\u001b[38;5;241m=\u001b[39mhost,\n\u001b[0;32m     32\u001b[0m     additional_headers\u001b[38;5;241m=\u001b[39madditional_headers,\n\u001b[0;32m     33\u001b[0m     \u001b[38;5;241m*\u001b[39m\u001b[38;5;241m*\u001b[39mkwargs,\n\u001b[0;32m     34\u001b[0m )\n",
      "File \u001b[1;32m~\\anaconda3\\Lib\\site-packages\\pinecone\\config\\config.py:58\u001b[0m, in \u001b[0;36mConfigBuilder.build\u001b[1;34m(api_key, host, proxy_url, proxy_headers, ssl_ca_certs, ssl_verify, additional_headers, **kwargs)\u001b[0m\n\u001b[0;32m     55\u001b[0m source_tag \u001b[38;5;241m=\u001b[39m kwargs\u001b[38;5;241m.\u001b[39mpop(SOURCE_TAG, \u001b[38;5;28;01mNone\u001b[39;00m)\n\u001b[0;32m     57\u001b[0m \u001b[38;5;28;01mif\u001b[39;00m \u001b[38;5;129;01mnot\u001b[39;00m api_key:\n\u001b[1;32m---> 58\u001b[0m     \u001b[38;5;28;01mraise\u001b[39;00m PineconeConfigurationError(\u001b[38;5;124m\"\u001b[39m\u001b[38;5;124mYou haven\u001b[39m\u001b[38;5;124m'\u001b[39m\u001b[38;5;124mt specified an Api-Key.\u001b[39m\u001b[38;5;124m\"\u001b[39m)\n\u001b[0;32m     59\u001b[0m \u001b[38;5;28;01mif\u001b[39;00m \u001b[38;5;129;01mnot\u001b[39;00m host:\n\u001b[0;32m     60\u001b[0m     \u001b[38;5;28;01mraise\u001b[39;00m PineconeConfigurationError(\u001b[38;5;124m\"\u001b[39m\u001b[38;5;124mYou haven\u001b[39m\u001b[38;5;124m'\u001b[39m\u001b[38;5;124mt specified a host.\u001b[39m\u001b[38;5;124m\"\u001b[39m)\n",
      "\u001b[1;31mPineconeConfigurationError\u001b[0m: You haven't specified an Api-Key."
     ]
    }
   ],
   "source": [
    "# Inicjalizacja bazy wektorowej Pinecone  \n",
    "pc = Pinecone(api_key=pinecone_api_key)  \n",
    "index_name = 'chatbot'  "
   ]
  },
  {
   "cell_type": "code",
   "execution_count": null,
   "metadata": {},
   "outputs": [],
   "source": [
    "# Sprawdzenie, czy indeks w bazie wektorowej istnieje, jeśli nie - utworzenie go  \n",
    "if index_name not in pc.list_indexes().names():  \n",
    "    pc.create_index(  \n",
    "        name=index_name,  \n",
    "        dimension=1536,  \n",
    "        metric='cosine',  \n",
    "        spec=ServerlessSpec(  \n",
    "            cloud='aws',  \n",
    "            region='us-east-1'  \n",
    "        )  \n",
    "    )  \n",
    "    # Czekanie, aż indeks zostanie zainicjalizowany  \n",
    "    while not pc.describe_index(index_name).status['ready']:  \n",
    "        time.sleep(1)  "
   ]
  },
  {
   "cell_type": "code",
   "execution_count": null,
   "metadata": {},
   "outputs": [],
   "source": [
    "# Połączenie z indeksem  \n",
    "index = pc.Index(index_name)  "
   ]
  },
  {
   "cell_type": "code",
   "execution_count": null,
   "metadata": {},
   "outputs": [],
   "source": [
    "# Funkcja do czytania tekstu z pliku PDF \n",
    "def read_pdf(file_path):  \n",
    "    with open(file_path, 'rb') as file:  \n",
    "        reader = PdfReader(file)  \n",
    "        text = ''  \n",
    "        for page_num in range(len(reader.pages)):  \n",
    "            page = reader.pages[page_num]  \n",
    "            text += page.extract_text()  \n",
    "    return text  \n",
    "\n",
    "# Funkcja do chunkowania tekstu  \n",
    "def chunk_text(text, chunk_size=500, overlap=50):  \n",
    "    chunks = []  \n",
    "    start = 0  \n",
    "    while start < len(text):  \n",
    "        end = start + chunk_size  \n",
    "        chunk = text[start:end]  \n",
    "        chunks.append(chunk)  \n",
    "        start += chunk_size - overlap  \n",
    "    return chunks \n",
    "\n",
    "# Funkcja do przetwarzania pliku PDF, chunkowania go i wrzucania do bazy Pinecone  \n",
    "def process_pdf_and_upsert(file_path, index):  \n",
    "    text = read_pdf(file_path)  \n",
    "    chunks = chunk_text(text)  \n",
    "    upsert_embeddings(chunks, index)  \n",
    "\n",
    "# Funkcja do embedowania tekstów  \n",
    "def get_embedding(text, model=\"text-embedding-3-small\"):  \n",
    "    text = text.replace(\"\\n\", \" \")  \n",
    "    response = openai.Embedding.create(input=[text], model=model)  \n",
    "    return response['data'][0]['embedding']  \n",
    "  \n",
    "# Funkcja do wrzucania embeddingów do bazy Pinecone  \n",
    "def upsert_embeddings(texts, index):  \n",
    "    embeddings = [get_embedding(text) for text in texts]  \n",
    "    ids = [str(i) for i in range(len(texts))]  \n",
    "    meta = [{'text': text} for text in texts]  \n",
    "    to_upsert = list(zip(ids, embeddings, meta))  \n",
    "    index.upsert(vectors=to_upsert)  \n",
    "  \n",
    "# Funkcja do wykonywania zapytań do bazy Pinecone i zwracania najlepszego chunku informacji  \n",
    "def query_embedding(query, index, model=\"text-embedding-3-small\"):  \n",
    "    query_embedding = get_embedding(query, model=model)  \n",
    "    result = index.query(vector=query_embedding, top_k=1, include_metadata=True)  \n",
    "    return result['matches'][0]['metadata']['text']   \n",
    "\n",
    "# Funkcja do generowania odpowiedzi na pytanie na podstawie najlepszego chunku  \n",
    "def generate_answer(query, index):  \n",
    "    best_match_text = query_embedding(query, index)  \n",
    "    prompt = f\"Based on the following information, answer the question: '{query}'\\n\\nInformation: {best_match_text}\"  \n",
    "      \n",
    "    response = openai.ChatCompletion.create(  \n",
    "        model=\"gpt-4o\",  \n",
    "        messages=[  \n",
    "            {\"role\": \"system\", \"content\": \"Jesteś pomocnym asystentem.\"},  \n",
    "            {\"role\": \"user\", \"content\": prompt}]\n",
    "        )  \n",
    "      \n",
    "    return response.choices[0].message.content"
   ]
  },
  {
   "cell_type": "code",
   "execution_count": null,
   "metadata": {},
   "outputs": [],
   "source": [
    "# Ścieżka do pliku PDF  \n",
    "pdf_file = os.path.join('Przewodnik_po_historii_Polski.pdf')  \n",
    "\n",
    "# Przetwarzanie pliku PDF, chunkowanie i wrzucanie do bazy Pinecone  \n",
    "process_pdf_and_upsert(pdf_file, index) "
   ]
  },
  {
   "cell_type": "code",
   "execution_count": null,
   "metadata": {},
   "outputs": [],
   "source": [
    "# Zadanie pytania i generowanie odpowiedzi  \n",
    "query = \"W którym roku opierając się na jałtańskich decyzjach Wielkiej Trójki, pod kontrolą Moskwy utworzono rząd, który miał zorganizować w okrojonym kraju wybory parlamentarne?\"  \n",
    "answer = generate_answer(query, index)  \n",
    "print(f\"Answer: {answer}\")  "
   ]
  },
  {
   "cell_type": "code",
   "execution_count": null,
   "metadata": {},
   "outputs": [],
   "source": []
  }
 ],
 "metadata": {
  "kernelspec": {
   "display_name": "Python 3 (ipykernel)",
   "language": "python",
   "name": "python3"
  },
  "language_info": {
   "codemirror_mode": {
    "name": "ipython",
    "version": 3
   },
   "file_extension": ".py",
   "mimetype": "text/x-python",
   "name": "python",
   "nbconvert_exporter": "python",
   "pygments_lexer": "ipython3",
   "version": "3.12.4"
  }
 },
 "nbformat": 4,
 "nbformat_minor": 4
}
